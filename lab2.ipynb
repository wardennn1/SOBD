{
 "cells": [
  {
   "cell_type": "markdown",
   "id": "22551efd-dca5-40ac-8cd1-baed5a9951d9",
   "metadata": {},
   "source": [
    "# Лабораторная работа №2 Машинное обучение на больших данных\n",
    "## Вариант: Задача регрессии - RandomForest, бинарной классификации - LogisticRegression\n"
   ]
  },
  {
   "cell_type": "markdown",
   "id": "fbd0e880-c58f-406d-851e-fe270b86077a",
   "metadata": {},
   "source": [
    "## 1. Инициализация PySpark фреймворка"
   ]
  },
  {
   "cell_type": "code",
   "execution_count": 1,
   "id": "7a218bba-df40-48e9-8ca3-a905d9c4079f",
   "metadata": {},
   "outputs": [],
   "source": [
    "import numpy as np\n",
    "import pandas as pd\n",
    "import os"
   ]
  },
  {
   "cell_type": "markdown",
   "id": "3aeb2067-d5e5-4100-bb60-322cd0548ba1",
   "metadata": {},
   "source": [
    "Импорт библиотек Spark SQL и Spark ML"
   ]
  },
  {
   "cell_type": "code",
   "execution_count": 2,
   "id": "a596d31e-c9ec-45b2-8b20-4e57dd33e2f6",
   "metadata": {},
   "outputs": [],
   "source": [
    "from pyspark.sql.types import *\n",
    "from pyspark.sql.functions import *\n",
    "from pyspark.sql import SparkSession\n",
    "\n",
    "from pyspark.ml import Pipeline\n",
    "from pyspark.ml.feature import VectorAssembler, StringIndexer, VectorIndexer, MinMaxScaler, OneHotEncoder\n",
    "from pyspark.ml.classification import LogisticRegression\n",
    "from pyspark.ml.tuning import ParamGridBuilder, CrossValidator\n",
    "from pyspark.ml.evaluation import BinaryClassificationEvaluator, RegressionEvaluator\n",
    "from pyspark.ml.regression import RandomForestRegressor\n",
    "\n",
    "spark = SparkSession.builder.master(\"local[*]\").getOrCreate()"
   ]
  },
  {
   "cell_type": "markdown",
   "id": "148ffd5a-2aba-4a58-a1fd-4113190396d2",
   "metadata": {},
   "source": [
    "Загрузка исходных данных"
   ]
  },
  {
   "cell_type": "code",
   "execution_count": 3,
   "id": "388101ca-de34-46fe-bbf2-84a270d26df7",
   "metadata": {},
   "outputs": [
    {
     "data": {
      "text/html": [
       "<div>\n",
       "<style scoped>\n",
       "    .dataframe tbody tr th:only-of-type {\n",
       "        vertical-align: middle;\n",
       "    }\n",
       "\n",
       "    .dataframe tbody tr th {\n",
       "        vertical-align: top;\n",
       "    }\n",
       "\n",
       "    .dataframe thead th {\n",
       "        text-align: right;\n",
       "    }\n",
       "</style>\n",
       "<table border=\"1\" class=\"dataframe\">\n",
       "  <thead>\n",
       "    <tr style=\"text-align: right;\">\n",
       "      <th></th>\n",
       "      <th>startingAirport</th>\n",
       "      <th>destinationAirport</th>\n",
       "      <th>isNonStop</th>\n",
       "      <th>isBasicEconomy</th>\n",
       "      <th>isRefundable</th>\n",
       "      <th>baseFare</th>\n",
       "      <th>totalFare</th>\n",
       "      <th>seatsRemaining</th>\n",
       "      <th>totalTravelDistance</th>\n",
       "      <th>travelDuration</th>\n",
       "    </tr>\n",
       "  </thead>\n",
       "  <tbody>\n",
       "    <tr>\n",
       "      <th>0</th>\n",
       "      <td>ATL</td>\n",
       "      <td>BOS</td>\n",
       "      <td>True</td>\n",
       "      <td>False</td>\n",
       "      <td>False</td>\n",
       "      <td>217.67</td>\n",
       "      <td>248.6</td>\n",
       "      <td>9</td>\n",
       "      <td>947</td>\n",
       "      <td>149</td>\n",
       "    </tr>\n",
       "    <tr>\n",
       "      <th>1</th>\n",
       "      <td>ATL</td>\n",
       "      <td>BOS</td>\n",
       "      <td>True</td>\n",
       "      <td>False</td>\n",
       "      <td>False</td>\n",
       "      <td>217.67</td>\n",
       "      <td>248.6</td>\n",
       "      <td>4</td>\n",
       "      <td>947</td>\n",
       "      <td>150</td>\n",
       "    </tr>\n",
       "    <tr>\n",
       "      <th>2</th>\n",
       "      <td>ATL</td>\n",
       "      <td>BOS</td>\n",
       "      <td>True</td>\n",
       "      <td>False</td>\n",
       "      <td>False</td>\n",
       "      <td>217.67</td>\n",
       "      <td>248.6</td>\n",
       "      <td>9</td>\n",
       "      <td>947</td>\n",
       "      <td>150</td>\n",
       "    </tr>\n",
       "    <tr>\n",
       "      <th>3</th>\n",
       "      <td>ATL</td>\n",
       "      <td>BOS</td>\n",
       "      <td>True</td>\n",
       "      <td>False</td>\n",
       "      <td>False</td>\n",
       "      <td>217.67</td>\n",
       "      <td>248.6</td>\n",
       "      <td>8</td>\n",
       "      <td>947</td>\n",
       "      <td>152</td>\n",
       "    </tr>\n",
       "    <tr>\n",
       "      <th>4</th>\n",
       "      <td>ATL</td>\n",
       "      <td>BOS</td>\n",
       "      <td>True</td>\n",
       "      <td>False</td>\n",
       "      <td>False</td>\n",
       "      <td>217.67</td>\n",
       "      <td>248.6</td>\n",
       "      <td>9</td>\n",
       "      <td>947</td>\n",
       "      <td>154</td>\n",
       "    </tr>\n",
       "  </tbody>\n",
       "</table>\n",
       "</div>"
      ],
      "text/plain": [
       "  startingAirport destinationAirport  isNonStop  isBasicEconomy  isRefundable  \\\n",
       "0             ATL                BOS       True           False         False   \n",
       "1             ATL                BOS       True           False         False   \n",
       "2             ATL                BOS       True           False         False   \n",
       "3             ATL                BOS       True           False         False   \n",
       "4             ATL                BOS       True           False         False   \n",
       "\n",
       "   baseFare  totalFare  seatsRemaining  totalTravelDistance  travelDuration  \n",
       "0    217.67      248.6               9                  947             149  \n",
       "1    217.67      248.6               4                  947             150  \n",
       "2    217.67      248.6               9                  947             150  \n",
       "3    217.67      248.6               8                  947             152  \n",
       "4    217.67      248.6               9                  947             154  "
      ]
     },
     "execution_count": 3,
     "metadata": {},
     "output_type": "execute_result"
    }
   ],
   "source": [
    "dataframe = spark.read.csv('new_csv/itineraries2.csv', inferSchema=True, header=True, sep=';')\n",
    "dataframe.limit(5).toPandas()"
   ]
  },
  {
   "cell_type": "markdown",
   "id": "46823f08-7267-4997-bfcc-e335197f9ec6",
   "metadata": {},
   "source": [
    "# Задача регрессии"
   ]
  },
  {
   "cell_type": "markdown",
   "id": "23c1a980-5c21-43e5-8696-3968562ac82d",
   "metadata": {},
   "source": [
    "### Подготовка данных"
   ]
  },
  {
   "cell_type": "code",
   "execution_count": 4,
   "id": "416a5825-10a5-4183-959f-793f9c22cb9c",
   "metadata": {},
   "outputs": [
    {
     "name": "stdout",
     "output_type": "stream",
     "text": [
      "+---------------+------------------+---------+--------------+------------+--------+---------+--------------+-------------------+-----+\n",
      "|startingAirport|destinationAirport|isNonStop|isBasicEconomy|isRefundable|baseFare|totalFare|seatsRemaining|totalTravelDistance|label|\n",
      "+---------------+------------------+---------+--------------+------------+--------+---------+--------------+-------------------+-----+\n",
      "|            ATL|               BOS|     true|         false|       false|  217.67|    248.6|             9|                947|  149|\n",
      "|            ATL|               BOS|     true|         false|       false|  217.67|    248.6|             4|                947|  150|\n",
      "|            ATL|               BOS|     true|         false|       false|  217.67|    248.6|             9|                947|  150|\n",
      "|            ATL|               BOS|     true|         false|       false|  217.67|    248.6|             8|                947|  152|\n",
      "|            ATL|               BOS|     true|         false|       false|  217.67|    248.6|             9|                947|  154|\n",
      "|            ATL|               BOS|     true|         false|       false|  217.67|    248.6|             7|                947|  158|\n",
      "|            ATL|               BOS|    false|         false|       false|  213.02|    251.1|             3|                956|  252|\n",
      "|            ATL|               BOS|    false|         false|       false|  213.02|    251.1|             3|                956|  318|\n",
      "|            ATL|               BOS|    false|         false|       false|  213.02|    251.1|             7|                956|  332|\n",
      "|            ATL|               BOS|    false|         false|       false|  213.02|    251.1|             7|                956|  398|\n",
      "+---------------+------------------+---------+--------------+------------+--------+---------+--------------+-------------------+-----+\n",
      "only showing top 10 rows\n",
      "\n"
     ]
    }
   ],
   "source": [
    "data = dataframe.select(\n",
    "    \"startingAirport\", \n",
    "    \"destinationAirport\", \n",
    "    \"isNonStop\", \n",
    "    \"isBasicEconomy\", \n",
    "    \"isRefundable\", \n",
    "    \"baseFare\",\n",
    "    \"totalFare\", \n",
    "    \"seatsRemaining\", \n",
    "    \"totalTravelDistance\",\n",
    "    ((col(\"travelDuration\")).alias(\"label\")))\n",
    "data.show(10)"
   ]
  },
  {
   "cell_type": "markdown",
   "id": "41eb2408-34a3-44a9-8be4-d6c6d4d63bf8",
   "metadata": {},
   "source": [
    "## Разделим данные\r\n",
    "\n",
    "Используем 70% данных для обучения, а 30% оставим для тестирования."
   ]
  },
  {
   "cell_type": "code",
   "execution_count": 5,
   "id": "541b8af7-07a3-49af-b0de-ea133bdb467f",
   "metadata": {},
   "outputs": [
    {
     "name": "stdout",
     "output_type": "stream",
     "text": [
      "Training Rows: 652838  Testing Rows: 278707\n"
     ]
    }
   ],
   "source": [
    "splits = data.randomSplit([0.7, 0.3])\n",
    "train = splits[0]\n",
    "test = splits[1].withColumnRenamed(\"label\", \"trueLabel\")\n",
    "train_rows = train.count()\n",
    "test_rows = test.count()\n",
    "print(\"Training Rows:\", train_rows, \" Testing Rows:\", test_rows)"
   ]
  },
  {
   "cell_type": "markdown",
   "id": "d56c7e6e-1264-4867-919d-c27db284bca7",
   "metadata": {},
   "source": [
    "Задача регрессии (Случайный лес)"
   ]
  },
  {
   "cell_type": "code",
   "execution_count": 6,
   "id": "8bfa5e81-19a2-4670-92bf-9df17c5fd041",
   "metadata": {},
   "outputs": [
    {
     "name": "stdout",
     "output_type": "stream",
     "text": [
      "+-----------------------------------------------------------------------------------------------------------------------------+------------------+---------+\n",
      "|reg_features                                                                                                                 |prediction        |trueLabel|\n",
      "+-----------------------------------------------------------------------------------------------------------------------------+------------------+---------+\n",
      "|(40,[8,18,34,35,36,37,38,39],[1.0,1.0,161.86,196.1,956.0,0.20835374149659863,0.21730019062527614,0.2176179306750065])        |366.18091003102603|276      |\n",
      "|(40,[8,18,33,34,35,36,37,38,39],[1.0,1.0,1.0,161.86,196.1,956.0,0.20835374149659863,0.21730019062527614,0.2176179306750065]) |366.18091003102603|252      |\n",
      "|(40,[8,18,33,34,35,36,37,38,39],[1.0,1.0,6.0,161.86,196.1,956.0,0.20835374149659863,0.21730019062527614,0.2176179306750065]) |366.18091003102603|398      |\n",
      "|(40,[8,18,33,34,35,36,37,38,39],[1.0,1.0,6.0,161.86,196.1,956.0,0.20835374149659863,0.21730019062527614,0.2176179306750065]) |366.18091003102603|438      |\n",
      "|(40,[8,18,34,35,36,37,38,39],[1.0,1.0,161.86,197.6,947.0,0.20835374149659863,0.21919381919634404,0.21527234818868907])       |366.18091003102603|267      |\n",
      "|(40,[8,18,33,34,35,36,37,38,39],[1.0,1.0,1.0,161.86,197.6,947.0,0.20835374149659863,0.21919381919634404,0.21527234818868907])|366.18091003102603|269      |\n",
      "|(40,[8,18,33,34,35,36,37,38,39],[1.0,1.0,1.0,161.86,197.6,947.0,0.20835374149659863,0.21919381919634404,0.21527234818868907])|366.18091003102603|272      |\n",
      "|(40,[8,18,33,34,35,36,37,38,39],[1.0,1.0,1.0,161.86,197.6,947.0,0.20835374149659863,0.21919381919634404,0.21527234818868907])|366.18091003102603|334      |\n",
      "|(40,[8,18,33,34,35,36,37,38,39],[1.0,1.0,1.0,161.86,197.6,947.0,0.20835374149659863,0.21919381919634404,0.21527234818868907])|366.18091003102603|377      |\n",
      "|(40,[8,18,33,34,35,36,37,38,39],[1.0,1.0,1.0,161.86,197.6,947.0,0.20835374149659863,0.21919381919634404,0.21527234818868907])|366.18091003102603|442      |\n",
      "+-----------------------------------------------------------------------------------------------------------------------------+------------------+---------+\n",
      "only showing top 10 rows\n",
      "\n"
     ]
    }
   ],
   "source": [
    "## Создание столбца признаков для задачи регрессии\n",
    "# StringIndexer - преобразование текстовых значений в категориальных столбцах в числовые индексы\n",
    "# OneHotEncoder - OHE-кодирование числовых индексов от StringIndexer\n",
    "# VectorAssembler - объединение всех категориальных признаков в один вектор\n",
    "# VectorIndexer - автоматическое определение категориальных признаков вектора\n",
    "# MinMaxScaler - масштабирование числовых признаков в диапазон от 0 до 1\n",
    "strIdx = StringIndexer(inputCols=[\"startingAirport\", \"destinationAirport\"], outputCols=[\"startingAirport_idx\", \"destinationAirport_idx\"])\n",
    "oneHotEnc = OneHotEncoder(inputCols=[\"startingAirport_idx\", \"destinationAirport_idx\"], outputCols=[\"startingAirport_enc\", \"destinationAirport_enc\"])\n",
    "catVect = VectorAssembler(inputCols=[\"startingAirport_enc\", \"destinationAirport_enc\", \"isNonStop\", \"isBasicEconomy\", \"isRefundable\", \"seatsRemaining\"], outputCol=\"reg_catFeatures\")\n",
    "catIdx = VectorIndexer(inputCol=catVect.getOutputCol(), outputCol=\"reg_idxCatFeatures\")\n",
    "numVect = VectorAssembler(inputCols=[\"baseFare\", \"totalFare\", \"totalTravelDistance\"], outputCol=\"reg_numFeatures\")\n",
    "minMax = MinMaxScaler(inputCol=numVect.getOutputCol(), outputCol='reg_normFeatures')\n",
    "featVect = VectorAssembler(inputCols=[\"reg_idxCatFeatures\", \"reg_numFeatures\", \"reg_normFeatures\"], outputCol=\"reg_features\")\n",
    "\n",
    "# Создание модели RandomForestRegressor\n",
    "rf = RandomForestRegressor(labelCol=\"label\", featuresCol=\"reg_features\", numTrees=10)\n",
    "\n",
    "# Создание и выполнение пайплайна для задачи регрессии\n",
    "reg_pipeline = Pipeline(stages=[strIdx, oneHotEnc, catVect, catIdx, numVect, minMax, featVect, rf])\n",
    "reg_model = reg_pipeline.fit(train)\n",
    "reg_prediction = reg_model.transform(test)\n",
    "\n",
    "# Вывод результатов\n",
    "reg_prediction.select(\"reg_features\", \"prediction\", \"trueLabel\").show(10, truncate=False)"
   ]
  },
  {
   "cell_type": "markdown",
   "id": "7f39d844-3b84-4b7e-85c9-c0aefa25a0ac",
   "metadata": {},
   "source": [
    "## Оценка качества модели"
   ]
  },
  {
   "cell_type": "code",
   "execution_count": 7,
   "id": "b6ddf74c-f0e5-4bf7-86ba-4bff1b38295a",
   "metadata": {},
   "outputs": [
    {
     "name": "stdout",
     "output_type": "stream",
     "text": [
      "RMSE =  110.46492062677532\n"
     ]
    }
   ],
   "source": [
    "# RMSE - среднеквадратичное отклонение между фактическими и предсказанными значениями\n",
    "reg_evaluator = RegressionEvaluator(labelCol=\"trueLabel\", predictionCol=\"prediction\", metricName=\"rmse\")\n",
    "rmse = reg_evaluator.evaluate(reg_prediction)\n",
    "print(\"RMSE = \", rmse)"
   ]
  },
  {
   "cell_type": "code",
   "execution_count": 8,
   "id": "2fbf8af1-3011-4caf-b620-e42a2f37980d",
   "metadata": {},
   "outputs": [
    {
     "name": "stdout",
     "output_type": "stream",
     "text": [
      "R² =  0.7085462443574674\n"
     ]
    }
   ],
   "source": [
    "# R² - доля общей дисперсии\n",
    "reg_evaluator = RegressionEvaluator(labelCol=\"trueLabel\", predictionCol=\"prediction\", metricName=\"r2\")\n",
    "r2 = reg_evaluator.evaluate(reg_prediction)\n",
    "print(\"R² = \", r2)"
   ]
  },
  {
   "cell_type": "code",
   "execution_count": 9,
   "id": "cc2914b9-060a-4a2f-bac8-006fa3b8ab66",
   "metadata": {},
   "outputs": [
    {
     "name": "stdout",
     "output_type": "stream",
     "text": [
      "Mean Absolute Error (MAE): 79.86131893374487\n"
     ]
    }
   ],
   "source": [
    "# MAE - абсолютное отклонение между фактическими и предсказанными значениями\n",
    "mae_evaluator = RegressionEvaluator(labelCol=\"trueLabel\", predictionCol=\"prediction\", metricName=\"mae\")\n",
    "mae = mae_evaluator.evaluate(reg_prediction)\n",
    "print(f\"Mean Absolute Error (MAE): {mae}\")"
   ]
  },
  {
   "cell_type": "code",
   "execution_count": 10,
   "id": "296a2957-ccfb-4c03-ad88-ccfc46ff2233",
   "metadata": {},
   "outputs": [
    {
     "name": "stdout",
     "output_type": "stream",
     "text": [
      "+------------------+\n",
      "|     stddev(label)|\n",
      "+------------------+\n",
      "|204.51993614793133|\n",
      "+------------------+\n",
      "\n"
     ]
    }
   ],
   "source": [
    "# Стандартное отклонение\n",
    "data.select(stddev('label')).show()"
   ]
  },
  {
   "cell_type": "markdown",
   "id": "8908271a-20c3-4c49-948d-8ab4e34c17f4",
   "metadata": {},
   "source": [
    "CrossValidator разделяет обучающий набор данных на заданное количество складок (фолдов), обучает модель на части данных и оценивает ее на оставшихся данных. Этот процесс повторяется для каждой комбинации гиперпараметров, и выбирается модель с наилучшей средней производительностью на всех фолдах."
   ]
  },
  {
   "cell_type": "code",
   "execution_count": 11,
   "id": "c9471a82-8936-465c-a0e8-6d364ad2aefe",
   "metadata": {},
   "outputs": [],
   "source": [
    "## Настройка гиперпараметров модели\n",
    "# maxDepth - максимальная глубина дерева, выбор наилучшего 2,5,10\n",
    "# numTrees - количество деревьев в случайном лесу, выбор наилучшего из 5,10,20\n",
    "param_grid = (ParamGridBuilder()\n",
    "              .addGrid(rf.maxDepth, [2, 5, 10])\n",
    "              .addGrid(rf.numTrees, [5, 10, 20])\n",
    "              .build())\n",
    "\n",
    "## Создание объекта для кросс-валидации\n",
    "# estimator - оцениваемая модель (наш пайплайн c моделью и преобразованием данных)\n",
    "# estimatorParamMaps - сетка параметров для оцениваемой модели\n",
    "# evaluator - оценка качества модели на каждом этапе кросс-валидации (по умолчанию RMSE) \n",
    "# numFolds - количество складываний для кросс-валидации, т.е. на сколько частей будет разделен набор данных (в нашем случае разделение на 3 части и обучение 3 раза)\n",
    "cv = CrossValidator(estimator=reg_pipeline,\n",
    "                            estimatorParamMaps=param_grid,\n",
    "                            evaluator=RegressionEvaluator(),\n",
    "                            numFolds=3) \n",
    "\n",
    "# Обучение модели с использованием кросс-валидации\n",
    "cv_model = cv.fit(train)\n",
    "\n",
    "# Получение наилучшей модели после обучения с кросс-валидацией\n",
    "best_cv_model = cv_model.bestModel\n",
    "\n",
    "# Оценка производительности на тестовом наборе\n",
    "cv_prediction = best_cv_model.transform(test)"
   ]
  },
  {
   "cell_type": "code",
   "execution_count": 12,
   "id": "99ee3513-d7aa-40a7-8bc0-e8a9e5925f2f",
   "metadata": {},
   "outputs": [
    {
     "name": "stdout",
     "output_type": "stream",
     "text": [
      "RMSE =  100.4125862612189\n"
     ]
    }
   ],
   "source": [
    "reg_evaluator = RegressionEvaluator(labelCol=\"trueLabel\", predictionCol=\"prediction\", metricName=\"rmse\")\n",
    "rmse = reg_evaluator.evaluate(cv_prediction)\n",
    "print(\"RMSE = \", rmse)"
   ]
  },
  {
   "cell_type": "code",
   "execution_count": 13,
   "id": "b1e31cec-dabb-445f-82f5-645a237ac28f",
   "metadata": {},
   "outputs": [
    {
     "name": "stdout",
     "output_type": "stream",
     "text": [
      "R² =  0.7591774268700683\n"
     ]
    }
   ],
   "source": [
    "# Расчет метрик для задачи регрессии\n",
    "reg_evaluator = RegressionEvaluator(labelCol=\"trueLabel\", predictionCol=\"prediction\", metricName=\"r2\")\n",
    "r2 = reg_evaluator.evaluate(cv_prediction)\n",
    "print(\"R² = \", r2)"
   ]
  },
  {
   "cell_type": "code",
   "execution_count": 14,
   "id": "164190b0-99d6-4e53-9081-8cd169370887",
   "metadata": {},
   "outputs": [
    {
     "name": "stdout",
     "output_type": "stream",
     "text": [
      "Mean Absolute Error (MAE): 69.16568151952063\n"
     ]
    }
   ],
   "source": [
    "mae_evaluator = RegressionEvaluator(labelCol=\"trueLabel\", predictionCol=\"prediction\", metricName=\"mae\")\n",
    "mae = mae_evaluator.evaluate(cv_prediction)\n",
    "print(f\"Mean Absolute Error (MAE): {mae}\")"
   ]
  },
  {
   "cell_type": "markdown",
   "id": "a1f15cd3-43ab-4413-b5c8-926e65ef34ac",
   "metadata": {},
   "source": [
    "# Задача бинарной классификации"
   ]
  },
  {
   "cell_type": "markdown",
   "id": "9c39a6a0-0514-454d-ad98-16a83438caf4",
   "metadata": {},
   "source": [
    "## Подготовка данных\n"
   ]
  },
  {
   "cell_type": "code",
   "execution_count": 15,
   "id": "7254196a-57d9-47b9-acf4-e564942fa669",
   "metadata": {},
   "outputs": [
    {
     "name": "stdout",
     "output_type": "stream",
     "text": [
      "+---------------+------------------+---------+--------------+------------+--------+---------+--------------+-------------------+-----+\n",
      "|startingAirport|destinationAirport|isNonStop|isBasicEconomy|isRefundable|baseFare|totalFare|seatsRemaining|totalTravelDistance|label|\n",
      "+---------------+------------------+---------+--------------+------------+--------+---------+--------------+-------------------+-----+\n",
      "|            ATL|               BOS|     true|         false|       false|  217.67|    248.6|             9|                947|    0|\n",
      "|            ATL|               BOS|     true|         false|       false|  217.67|    248.6|             4|                947|    0|\n",
      "|            ATL|               BOS|     true|         false|       false|  217.67|    248.6|             9|                947|    0|\n",
      "|            ATL|               BOS|     true|         false|       false|  217.67|    248.6|             8|                947|    0|\n",
      "|            ATL|               BOS|     true|         false|       false|  217.67|    248.6|             9|                947|    0|\n",
      "|            ATL|               BOS|     true|         false|       false|  217.67|    248.6|             7|                947|    0|\n",
      "|            ATL|               BOS|    false|         false|       false|  213.02|    251.1|             3|                956|    0|\n",
      "|            ATL|               BOS|    false|         false|       false|  213.02|    251.1|             3|                956|    0|\n",
      "|            ATL|               BOS|    false|         false|       false|  213.02|    251.1|             7|                956|    0|\n",
      "|            ATL|               BOS|    false|         false|       false|  213.02|    251.1|             7|                956|    1|\n",
      "+---------------+------------------+---------+--------------+------------+--------+---------+--------------+-------------------+-----+\n",
      "only showing top 10 rows\n",
      "\n"
     ]
    }
   ],
   "source": [
    "# 0 - для рейса с длительностью полета менее 400 минут,\n",
    "# 1 - для рейса с длительностью полета более 400 минут\n",
    "data = dataframe.select(\n",
    "    \"startingAirport\", \n",
    "    \"destinationAirport\", \n",
    "    \"isNonStop\", \n",
    "    \"isBasicEconomy\", \n",
    "    \"isRefundable\", \n",
    "    \"baseFare\",\n",
    "    \"totalFare\", \n",
    "    \"seatsRemaining\", \n",
    "    \"totalTravelDistance\",\n",
    "    ((col(\"travelDuration\") > 375).cast(\"Int\").alias(\"label\")))\n",
    "data.show(10)"
   ]
  },
  {
   "cell_type": "markdown",
   "id": "85d0a3fc-6bbf-484b-a0b6-a4f947ae7527",
   "metadata": {},
   "source": [
    "## Разделим данные\r\n",
    "\n",
    "Используем 70% данных для обучения, а 30% оставим для тестирования.."
   ]
  },
  {
   "cell_type": "code",
   "execution_count": 16,
   "id": "9a101511-013f-4497-914f-db522dd20dfd",
   "metadata": {},
   "outputs": [
    {
     "name": "stdout",
     "output_type": "stream",
     "text": [
      "Training Rows: 651705  Testing Rows: 279840\n"
     ]
    }
   ],
   "source": [
    "splits = data.randomSplit([0.7, 0.3])\n",
    "train = splits[0]\n",
    "test = splits[1].withColumnRenamed(\"label\", \"trueLabel\")\n",
    "train_rows = train.count()\n",
    "test_rows = test.count()\n",
    "print(\"Training Rows:\", train_rows, \" Testing Rows:\", test_rows)"
   ]
  },
  {
   "cell_type": "markdown",
   "id": "63801b01-7ed3-4859-bbc3-a4af8bef42d4",
   "metadata": {},
   "source": [
    "## Вычисление отношения между классами"
   ]
  },
  {
   "cell_type": "code",
   "execution_count": 17,
   "id": "fbb02b0b-03c4-4458-86d7-df71dea7f4ba",
   "metadata": {},
   "outputs": [
    {
     "name": "stdout",
     "output_type": "stream",
     "text": [
      "Positive to Negative Class Ratio: 1.093750602386414\n"
     ]
    }
   ],
   "source": [
    "positive_count = train.filter(col(\"label\") == 1).count()\n",
    "negative_count = train.filter(col(\"label\") == 0).count()\n",
    "balance_ratio = positive_count / negative_count\n",
    "print(\"Positive to Negative Class Ratio:\", balance_ratio)"
   ]
  },
  {
   "cell_type": "markdown",
   "id": "f3d2a3d8-946d-4b60-9349-f074825198ff",
   "metadata": {},
   "source": [
    "Если balance_ratio близко к 1, это свидетельствует о балансе. Если значительно больше или меньше 1, это может указывать на дисбаланс."
   ]
  },
  {
   "cell_type": "code",
   "execution_count": 18,
   "id": "bb345543-fbb5-4701-9d72-c745ab26edc0",
   "metadata": {},
   "outputs": [],
   "source": [
    "# Создание столбца признаков для задачи регрессии\n",
    "strIdx = StringIndexer(inputCols=[\"startingAirport\", \"destinationAirport\"], outputCols=[\"startingAirport_idx\", \"destinationAirport_idx\"])\n",
    "oneHotEnc = OneHotEncoder(inputCols=[\"startingAirport_idx\", \"destinationAirport_idx\"], outputCols=[\"startingAirport_enc\", \"destinationAirport_enc\"])\n",
    "catVect = VectorAssembler(inputCols=[\"startingAirport_enc\", \"destinationAirport_enc\", \"isNonStop\", \"isBasicEconomy\", \"isRefundable\", \"seatsRemaining\"], outputCol=\"reg_catFeatures\")\n",
    "catIdx = VectorIndexer(inputCol=catVect.getOutputCol(), outputCol=\"reg_idxCatFeatures\")\n",
    "numVect = VectorAssembler(inputCols=[\"baseFare\", \"totalFare\", \"totalTravelDistance\"], outputCol=\"reg_numFeatures\")\n",
    "minMax = MinMaxScaler(inputCol=numVect.getOutputCol(), outputCol='reg_normFeatures')\n",
    "featVect = VectorAssembler(inputCols=[\"reg_idxCatFeatures\", \"reg_numFeatures\", \"reg_normFeatures\"], outputCol=\"features\")\n",
    "lr = LogisticRegression(labelCol=\"label\",featuresCol=\"features\",maxIter=10,regParam=0.3)\n",
    "pipeline = Pipeline(stages=[strIdx, oneHotEnc, catVect, catIdx, numVect, minMax, featVect, lr])"
   ]
  },
  {
   "cell_type": "code",
   "execution_count": 19,
   "id": "2488e6b2-814c-4e5f-b8f0-2d6d86b9c22f",
   "metadata": {},
   "outputs": [],
   "source": [
    "pipelineModel = pipeline.fit(train)"
   ]
  },
  {
   "cell_type": "code",
   "execution_count": 20,
   "id": "af38fe7d-c162-4d07-9ed0-a7a0e2cc3194",
   "metadata": {},
   "outputs": [
    {
     "name": "stdout",
     "output_type": "stream",
     "text": [
      "+------------------------------------------------------------------------------------------------------------------------------+----------+---------+\n",
      "|features                                                                                                                      |prediction|trueLabel|\n",
      "+------------------------------------------------------------------------------------------------------------------------------+----------+---------+\n",
      "|(40,[8,18,34,35,36,37,38,39],[1.0,1.0,161.86,196.1,956.0,0.20835374149659863,0.21730019062527614,0.2176179306750065])         |0.0       |0        |\n",
      "|(40,[8,18,33,34,35,36,37,38,39],[1.0,1.0,1.0,161.86,196.1,956.0,0.20835374149659863,0.21730019062527614,0.2176179306750065])  |0.0       |0        |\n",
      "|(40,[8,18,33,34,35,36,37,38,39],[1.0,1.0,6.0,161.86,196.1,956.0,0.20835374149659863,0.21730019062527614,0.2176179306750065])  |0.0       |1        |\n",
      "|(40,[8,18,33,34,35,36,37,38,39],[1.0,1.0,1.0,161.86,197.6,947.0,0.20835374149659863,0.21919381919634404,0.21527234818868907]) |0.0       |0        |\n",
      "|(40,[8,18,33,34,35,36,37,38,39],[1.0,1.0,1.0,161.86,197.6,947.0,0.20835374149659863,0.21919381919634404,0.21527234818868907]) |0.0       |0        |\n",
      "|(40,[8,18,33,34,35,36,37,38,39],[1.0,1.0,1.0,161.86,197.6,947.0,0.20835374149659863,0.21919381919634404,0.21527234818868907]) |0.0       |0        |\n",
      "|(40,[8,18,33,34,35,36,37,38,39],[1.0,1.0,1.0,161.86,197.6,947.0,0.20835374149659863,0.21919381919634404,0.21527234818868907]) |0.0       |0        |\n",
      "|(40,[8,18,33,34,35,36,37,38,39],[1.0,1.0,2.0,161.86,197.6,947.0,0.20835374149659863,0.21919381919634404,0.21527234818868907]) |0.0       |1        |\n",
      "|(40,[8,18,33,34,35,36,37,38,39],[1.0,1.0,2.0,161.86,197.6,947.0,0.20835374149659863,0.21919381919634404,0.21527234818868907]) |0.0       |1        |\n",
      "|(40,[8,18,33,34,35,36,37,38,39],[1.0,1.0,2.0,161.86,197.6,1462.0,0.20835374149659863,0.21919381919634404,0.34949179046129786])|0.0       |0        |\n",
      "|(40,[8,18,33,34,35,36,37,38,39],[1.0,1.0,4.0,161.86,197.6,947.0,0.20835374149659863,0.21919381919634404,0.21527234818868907]) |0.0       |0        |\n",
      "|(40,[8,18,33,34,35,36,37,38,39],[1.0,1.0,4.0,161.86,197.6,947.0,0.20835374149659863,0.21919381919634404,0.21527234818868907]) |0.0       |0        |\n",
      "|(40,[8,18,33,34,35,36,37,38,39],[1.0,1.0,4.0,161.86,197.6,947.0,0.20835374149659863,0.21919381919634404,0.21527234818868907]) |0.0       |1        |\n",
      "|(40,[8,18,33,34,35,36,37,38,39],[1.0,1.0,4.0,161.86,197.6,947.0,0.20835374149659863,0.21919381919634404,0.21527234818868907]) |0.0       |1        |\n",
      "|(40,[8,18,33,34,35,36,37,38,39],[1.0,1.0,4.0,161.86,197.6,1856.0,0.20835374149659863,0.21919381919634404,0.4521761793067501]) |1.0       |1        |\n",
      "|(40,[8,18,33,34,35,36,37,38,39],[1.0,1.0,6.0,161.86,197.6,947.0,0.20835374149659863,0.21919381919634404,0.21527234818868907]) |0.0       |0        |\n",
      "|(40,[8,18,33,34,35,36,37,38,39],[1.0,1.0,6.0,161.86,197.6,947.0,0.20835374149659863,0.21919381919634404,0.21527234818868907]) |0.0       |0        |\n",
      "|(40,[8,18,33,34,35,36,37,38,39],[1.0,1.0,6.0,161.86,197.6,1856.0,0.20835374149659863,0.21919381919634404,0.4521761793067501]) |1.0       |0        |\n",
      "|(40,[8,18,33,34,35,36,37,38,39],[1.0,1.0,8.0,161.86,197.6,947.0,0.20835374149659863,0.21919381919634404,0.21527234818868907]) |0.0       |0        |\n",
      "|(40,[8,18,33,34,35,36,37,38,39],[1.0,1.0,8.0,161.86,197.6,947.0,0.20835374149659863,0.21919381919634404,0.21527234818868907]) |0.0       |1        |\n",
      "|(40,[8,18,33,34,35,36,37,38,39],[1.0,1.0,8.0,161.86,197.6,947.0,0.20835374149659863,0.21919381919634404,0.21527234818868907]) |0.0       |1        |\n",
      "|(40,[8,18,33,34,35,36,37,38,39],[1.0,1.0,8.0,161.86,197.6,947.0,0.20835374149659863,0.21919381919634404,0.21527234818868907]) |0.0       |1        |\n",
      "|(40,[8,18,33,34,35,36,37,38,39],[1.0,1.0,8.0,161.86,197.6,1462.0,0.20835374149659863,0.21919381919634404,0.34949179046129786])|0.0       |0        |\n",
      "|(40,[8,18,33,34,35,36,37,38,39],[1.0,1.0,1.0,177.67,214.6,947.0,0.22986394557823125,0.24065494300178,0.21527234818868907])    |0.0       |0        |\n",
      "|(40,[8,18,33,34,35,36,37,38,39],[1.0,1.0,1.0,191.63,235.2,1462.0,0.24885714285714283,0.2666607753777789,0.34949179046129786]) |1.0       |1        |\n",
      "|(40,[8,18,34,35,36,37,38,39],[1.0,1.0,200.0,238.6,947.0,0.26024489795918365,0.2709530001388661,0.21527234818868907])          |0.0       |0        |\n",
      "|(40,[8,18,34,35,36,37,38,39],[1.0,1.0,200.0,238.6,947.0,0.26024489795918365,0.2709530001388661,0.21527234818868907])          |0.0       |0        |\n",
      "|(40,[8,18,33,34,35,36,37,38,39],[1.0,1.0,1.0,200.0,238.6,947.0,0.26024489795918365,0.2709530001388661,0.21527234818868907])   |0.0       |1        |\n",
      "|(40,[8,18,34,35,36,37,38,39],[1.0,1.0,202.79,240.1,956.0,0.2640408163265306,0.272846628709934,0.2176179306750065])            |0.0       |1        |\n",
      "|(40,[8,18,33,34,35,36,37,38,39],[1.0,1.0,1.0,213.02,251.1,956.0,0.2779591836734694,0.2867332382310984,0.2176179306750065])    |0.0       |0        |\n",
      "|(40,[8,18,33,34,35,36,37,38,39],[1.0,1.0,2.0,213.02,251.1,956.0,0.2779591836734694,0.2867332382310984,0.2176179306750065])    |0.0       |0        |\n",
      "|(40,[8,18,33,34,35,36,37,38,39],[1.0,1.0,5.0,213.02,251.1,956.0,0.2779591836734694,0.2867332382310984,0.2176179306750065])    |0.0       |0        |\n",
      "|(40,[8,18,33,34,35,36,37,38,39],[1.0,1.0,5.0,213.02,251.1,956.0,0.2779591836734694,0.2867332382310984,0.2176179306750065])    |0.0       |0        |\n",
      "|(40,[8,18,33,34,35,36,37,38,39],[1.0,1.0,6.0,213.02,251.1,956.0,0.2779591836734694,0.2867332382310984,0.2176179306750065])    |0.0       |0        |\n",
      "|(40,[8,18,33,34,35,36,37,38,39],[1.0,1.0,6.0,213.02,251.1,956.0,0.2779591836734694,0.2867332382310984,0.2176179306750065])    |0.0       |0        |\n",
      "|(40,[8,18,33,34,35,36,37,38,39],[1.0,1.0,6.0,213.02,251.1,956.0,0.2779591836734694,0.2867332382310984,0.2176179306750065])    |0.0       |0        |\n",
      "|(40,[8,18,33,34,35,36,37,38,39],[1.0,1.0,1.0,213.02,252.6,947.0,0.2779591836734694,0.2886268668021663,0.21527234818868907])   |0.0       |1        |\n",
      "|(40,[8,18,33,34,35,36,37,38,39],[1.0,1.0,1.0,213.02,252.6,1462.0,0.2779591836734694,0.2886268668021663,0.34949179046129786])  |1.0       |1        |\n",
      "|(40,[8,18,33,34,35,36,37,38,39],[1.0,1.0,2.0,213.02,252.6,947.0,0.2779591836734694,0.2886268668021663,0.21527234818868907])   |0.0       |1        |\n",
      "|(40,[8,18,33,34,35,36,37,38,39],[1.0,1.0,3.0,213.02,252.6,947.0,0.2779591836734694,0.2886268668021663,0.21527234818868907])   |0.0       |0        |\n",
      "|(40,[8,18,33,34,35,36,37,38,39],[1.0,1.0,3.0,213.02,252.6,947.0,0.2779591836734694,0.2886268668021663,0.21527234818868907])   |0.0       |0        |\n",
      "|(40,[8,18,33,34,35,36,37,38,39],[1.0,1.0,3.0,213.02,252.6,947.0,0.2779591836734694,0.2886268668021663,0.21527234818868907])   |0.0       |1        |\n",
      "|(40,[8,18,33,34,35,36,37,38,39],[1.0,1.0,5.0,213.02,252.6,1462.0,0.2779591836734694,0.2886268668021663,0.34949179046129786])  |0.0       |0        |\n",
      "|(40,[8,18,33,34,35,36,37,38,39],[1.0,1.0,5.0,213.02,252.6,1462.0,0.2779591836734694,0.2886268668021663,0.34949179046129786])  |0.0       |1        |\n",
      "|(40,[8,18,33,34,35,36,37,38,39],[1.0,1.0,6.0,213.02,252.6,1462.0,0.2779591836734694,0.2886268668021663,0.34949179046129786])  |0.0       |0        |\n",
      "|(40,[8,18,33,34,35,36,37,38,39],[1.0,1.0,6.0,213.02,252.6,1856.0,0.2779591836734694,0.2886268668021663,0.4521761793067501])   |1.0       |0        |\n",
      "|(40,[8,18,33,34,35,36,37,38,39],[1.0,1.0,6.0,213.02,252.6,1856.0,0.2779591836734694,0.2886268668021663,0.4521761793067501])   |1.0       |1        |\n",
      "|(40,[8,18,33,34,35,36,37,38,39],[1.0,1.0,6.0,213.02,252.6,1856.0,0.2779591836734694,0.2886268668021663,0.4521761793067501])   |1.0       |1        |\n",
      "|(40,[8,18,33,34,35,36,37,38,39],[1.0,1.0,7.0,213.02,252.6,947.0,0.2779591836734694,0.2886268668021663,0.21527234818868907])   |0.0       |0        |\n",
      "|(40,[8,18,33,34,35,36,37,38,39],[1.0,1.0,8.0,213.02,252.6,947.0,0.2779591836734694,0.2886268668021663,0.21527234818868907])   |0.0       |0        |\n",
      "|(40,[8,18,33,34,35,36,37,38,39],[1.0,1.0,8.0,213.02,252.6,947.0,0.2779591836734694,0.2886268668021663,0.21527234818868907])   |0.0       |0        |\n",
      "|(40,[8,18,33,34,35,36,37,38,39],[1.0,1.0,8.0,213.02,252.6,947.0,0.2779591836734694,0.2886268668021663,0.21527234818868907])   |0.0       |0        |\n",
      "|(40,[8,18,33,34,35,36,37,38,39],[1.0,1.0,3.0,223.62,269.59,1518.0,0.29238095238095235,0.31007536641712846,0.3640865259317175])|1.0       |1        |\n",
      "|(40,[8,18,33,34,35,36,37,38,39],[1.0,1.0,6.0,225.12,271.2,947.0,0.294421768707483,0.312107861083408,0.21527234818868907])     |0.0       |1        |\n",
      "|(40,[8,18,33,34,35,36,37,38,39],[1.0,1.0,6.0,242.79,290.2,947.0,0.3184625850340136,0.3360938229836012,0.21527234818868907])   |0.0       |1        |\n",
      "|(40,[8,18,34,35,36,37,38,39],[1.0,1.0,249.3,297.2,947.0,0.32731972789115643,0.3449307563152513,0.21527234818868907])          |0.0       |1        |\n",
      "|(40,[8,18,33,34,35,36,37,38,39],[1.0,1.0,1.0,258.6,300.1,956.0,0.33997278911564627,0.3485917715526492,0.2176179306750065])    |0.0       |0        |\n",
      "|(40,[8,18,34,35,36,37,38,39],[1.0,1.0,258.6,301.6,947.0,0.33997278911564627,0.35048540012371704,0.21527234818868907])         |0.0       |0        |\n",
      "|(40,[8,18,33,34,35,36,37,38,39],[1.0,1.0,1.0,258.6,301.6,1462.0,0.33997278911564627,0.35048540012371704,0.34949179046129786]) |1.0       |0        |\n",
      "|(40,[8,18,33,34,35,36,37,38,39],[1.0,1.0,8.0,258.6,301.6,947.0,0.33997278911564627,0.35048540012371704,0.21527234818868907])  |0.0       |1        |\n",
      "|(40,[8,18,34,35,36,37,38,39],[1.0,1.0,260.47,302.11,956.0,0.3425170068027211,0.35112923383788014,0.2176179306750065])         |0.0       |0        |\n",
      "|(40,[8,18,34,35,36,37,38,39],[1.0,1.0,260.47,302.11,956.0,0.3425170068027211,0.35112923383788014,0.2176179306750065])         |0.0       |0        |\n",
      "|(40,[8,18,34,35,36,37,38,39],[1.0,1.0,260.47,303.61,947.0,0.3425170068027211,0.353022862408948,0.21527234818868907])          |0.0       |0        |\n",
      "|(40,[8,18,33,34,35,36,37,38,39],[1.0,1.0,2.0,262.32,311.19,1118.0,0.34503401360544217,0.36259199878807774,0.2598384154287203])|0.0       |1        |\n",
      "|(40,[8,18,34,35,36,37,38,39],[1.0,1.0,274.42,318.6,1462.0,0.36149659863945577,0.371946523929153,0.34949179046129786])         |1.0       |1        |\n",
      "|(40,[8,18,33,34,35,36,37,38,39],[1.0,1.0,4.0,274.42,318.6,947.0,0.36149659863945577,0.371946523929153,0.21527234818868907])   |0.0       |0        |\n",
      "|(40,[8,18,33,34,35,36,37,38,39],[1.0,1.0,1.0,277.21,327.2,947.0,0.36529251700680265,0.3828033277366089,0.21527234818868907])  |0.0       |1        |\n",
      "|(40,[8,18,34,35,36,37,38,39],[1.0,1.0,298.6,350.2,1118.0,0.3943945578231292,0.4118389658263164,0.2598384154287203])           |1.0       |1        |\n",
      "|(40,[8,18,33,34,35,36,37,38,39],[1.0,1.0,1.0,305.12,357.2,947.0,0.40326530612244893,0.4206758991579665,0.21527234818868907])  |0.0       |1        |\n",
      "|(40,[8,18,33,34,35,36,37,38,39],[1.0,1.0,2.0,305.12,357.2,947.0,0.40326530612244893,0.4206758991579665,0.21527234818868907])  |0.0       |1        |\n",
      "|(40,[8,18,33,34,35,36,37,38,39],[1.0,1.0,1.0,320.93,368.6,947.0,0.42477551020408155,0.43506747629808235,0.21527234818868907]) |0.0       |0        |\n",
      "|(40,[8,18,33,34,35,36,37,38,39],[1.0,1.0,1.0,320.93,368.6,947.0,0.42477551020408155,0.43506747629808235,0.21527234818868907]) |0.0       |0        |\n",
      "|(40,[8,18,33,34,35,36,37,38,39],[1.0,1.0,6.0,320.93,368.6,947.0,0.42477551020408155,0.43506747629808235,0.21527234818868907]) |0.0       |0        |\n",
      "|(40,[8,18,33,34,35,36,37,38,39],[1.0,1.0,4.0,323.72,377.2,947.0,0.42857142857142855,0.44592428010553825,0.21527234818868907]) |0.0       |1        |\n",
      "|(40,[8,18,33,34,35,36,37,38,39],[1.0,1.0,2.0,333.02,387.2,947.0,0.4412244897959183,0.45854847057932413,0.21527234818868907])  |0.0       |1        |\n",
      "|(40,[8,18,34,35,36,37,38,39],[1.0,1.0,346.98,402.2,947.0,0.4602176870748299,0.4774847562900029,0.21527234818868907])          |1.0       |1        |\n",
      "|(40,[8,18,34,35,36,37,38,39],[1.0,1.0,360.93,417.2,947.0,0.47919727891156455,0.4964210420006817,0.21527234818868907])         |1.0       |1        |\n",
      "|(40,[8,18,33,34,35,36,37,38,39],[1.0,1.0,1.0,366.51,417.6,947.0,0.48678911564625843,0.4969260096196331,0.21527234818868907])  |1.0       |1        |\n",
      "|(40,[8,18,33,34,35,36,37,38,39],[1.0,1.0,3.0,366.51,417.6,947.0,0.48678911564625843,0.4969260096196331,0.21527234818868907])  |0.0       |0        |\n",
      "|(40,[8,18,33,34,35,36,37,38,39],[1.0,1.0,8.0,366.51,417.6,947.0,0.48678911564625843,0.4969260096196331,0.21527234818868907])  |0.0       |0        |\n",
      "|(40,[8,18,33,34,35,36,37,38,39],[1.0,1.0,8.0,366.51,417.6,947.0,0.48678911564625843,0.4969260096196331,0.21527234818868907])  |0.0       |0        |\n",
      "|(40,[8,18,33,34,35,36,37,38,39],[1.0,1.0,8.0,366.51,417.6,947.0,0.48678911564625843,0.4969260096196331,0.21527234818868907])  |0.0       |1        |\n",
      "|(40,[8,18,33,34,35,36,37,38,39],[1.0,1.0,8.0,366.51,417.6,947.0,0.48678911564625843,0.4969260096196331,0.21527234818868907])  |0.0       |1        |\n",
      "|(40,[8,18,33,34,35,36,37,38,39],[1.0,1.0,3.0,370.23,421.6,947.0,0.4918503401360544,0.5019756858091474,0.21527234818868907])   |1.0       |0        |\n",
      "|(40,[8,18,33,34,35,36,37,38,39],[1.0,1.0,8.0,370.23,421.6,947.0,0.4918503401360544,0.5019756858091474,0.21527234818868907])   |0.0       |0        |\n",
      "|(40,[8,18,33,34,35,36,37,38,39],[1.0,1.0,8.0,370.23,421.6,947.0,0.4918503401360544,0.5019756858091474,0.21527234818868907])   |0.0       |0        |\n",
      "|(40,[8,18,34,35,36,37,38,39],[1.0,1.0,374.88,426.6,947.0,0.49817687074829925,0.5082877810460404,0.21527234818868907])         |1.0       |0        |\n",
      "|(40,[8,18,33,34,35,36,37,38,39],[1.0,1.0,2.0,382.32,440.19,947.0,0.5082993197278911,0.5254440558999154,0.21527234818868907])  |1.0       |1        |\n",
      "|(40,[8,18,34,35,36,37,38,39],[1.0,1.0,386.05,438.6,947.0,0.5133741496598639,0.5234368096145835,0.21527234818868907])          |1.0       |0        |\n",
      "|(40,[8,18,34,35,36,37,38,39],[1.0,1.0,386.05,438.6,947.0,0.5133741496598639,0.5234368096145835,0.21527234818868907])          |1.0       |1        |\n",
      "|(40,[8,18,34,35,36,37,38,39],[1.0,1.0,386.05,438.6,947.0,0.5133741496598639,0.5234368096145835,0.21527234818868907])          |1.0       |1        |\n",
      "|(40,[8,18,33,34,35,36,37,38,39],[1.0,1.0,2.0,395.35,448.6,947.0,0.5260272108843537,0.5360610000883693,0.21527234818868907])   |1.0       |0        |\n",
      "|(40,[8,18,33,34,35,36,37,38,39],[1.0,1.0,3.0,395.35,448.6,947.0,0.5260272108843537,0.5360610000883693,0.21527234818868907])   |1.0       |0        |\n",
      "|(40,[8,18,33,34,35,36,37,38,39],[1.0,1.0,1.0,417.68,482.71,1042.0,0.5564081632653061,0.5791221137944529,0.2400312744331509])  |1.0       |1        |\n",
      "|(40,[8,18,34,35,36,37,38,39],[1.0,1.0,426.04,481.59,947.0,0.56778231292517,0.5777082044613889,0.21527234818868907])           |1.0       |0        |\n",
      "|(40,[8,18,34,35,36,37,38,39],[1.0,1.0,428.84,484.6,947.0,0.5715918367346937,0.5815080857939985,0.21527234818868907])          |1.0       |0        |\n",
      "|(40,[8,18,33,34,35,36,37,38,39],[1.0,1.0,4.0,460.47,518.61,947.0,0.6146258503401361,0.6244429575953442,0.21527234818868907])  |1.0       |0        |\n",
      "|(40,[8,18,33,34,35,36,37,38,39],[1.0,1.0,3.0,477.21,542.2,1250.0,0.6374013605442176,0.6542234229230051,0.2942402918947094])   |1.0       |1        |\n",
      "|(40,[8,18,33,34,35,36,37,38,39],[1.0,1.0,6.0,486.51,545.1,956.0,0.6500544217687074,0.657884438160403,0.2176179306750065])     |1.0       |1        |\n",
      "|(40,[8,18,33,34,35,36,37,38,39],[1.0,1.0,5.0,491.17,551.61,947.0,0.6563945578231292,0.6661027861588376,0.21527234818868907])  |1.0       |0        |\n",
      "+------------------------------------------------------------------------------------------------------------------------------+----------+---------+\n",
      "only showing top 100 rows\n",
      "\n"
     ]
    }
   ],
   "source": [
    "prediction = pipelineModel.transform(test)\n",
    "predicted = prediction.select(\"features\", \"prediction\", \"trueLabel\")\n",
    "predicted.show(100, truncate=False)"
   ]
  },
  {
   "cell_type": "code",
   "execution_count": 21,
   "id": "ddf9133f-7b75-40cd-8860-d26bc32b54df",
   "metadata": {},
   "outputs": [
    {
     "name": "stdout",
     "output_type": "stream",
     "text": [
      "+---------+------------------+\n",
      "|   metric|             value|\n",
      "+---------+------------------+\n",
      "|       TP|          124027.0|\n",
      "|       FP|           30507.0|\n",
      "|       TN|          103430.0|\n",
      "|       FN|           21876.0|\n",
      "|Precision|0.8025871329286759|\n",
      "|   Recall|0.8500647690588953|\n",
      "|       F1|0.8256439786044993|\n",
      "+---------+------------------+\n",
      "\n"
     ]
    }
   ],
   "source": [
    "tp = float(predicted.filter(\"prediction == 1.0 AND truelabel == 1\").count())\n",
    "fp = float(predicted.filter(\"prediction == 1.0 AND truelabel == 0\").count())\n",
    "tn = float(predicted.filter(\"prediction == 0.0 AND truelabel == 0\").count())\n",
    "fn = float(predicted.filter(\"prediction == 0.0 AND truelabel == 1\").count())\n",
    "pr = tp / (tp + fp)\n",
    "re = tp / (tp + fn)\n",
    "metrics = spark.createDataFrame([\n",
    " (\"TP\", tp),\n",
    " (\"FP\", fp),\n",
    " (\"TN\", tn),\n",
    " (\"FN\", fn),\n",
    " (\"Precision\", pr),\n",
    " (\"Recall\", re),\n",
    " (\"F1\", 2*pr*re/(re+pr))],[\"metric\", \"value\"])\n",
    "metrics.show()"
   ]
  },
  {
   "cell_type": "code",
   "execution_count": 22,
   "id": "3198ba14-3d02-4061-9d84-f890d8ae5956",
   "metadata": {},
   "outputs": [
    {
     "name": "stdout",
     "output_type": "stream",
     "text": [
      "AUR =  0.9176295255476912\n"
     ]
    }
   ],
   "source": [
    "# Метрика Area Under the ROC Curve\n",
    "evaluator = BinaryClassificationEvaluator(labelCol=\"trueLabel\", rawPredictionCol=\"rawPrediction\", metricName=\"areaUnderROC\")\n",
    "aur = evaluator.evaluate(prediction)\n",
    "print (\"AUR = \", aur)"
   ]
  },
  {
   "cell_type": "markdown",
   "id": "4be9b705-7b8e-4e4f-b4b3-080e8710e26f",
   "metadata": {},
   "source": [
    "## Подбор гиперпараметров"
   ]
  },
  {
   "cell_type": "code",
   "execution_count": 23,
   "id": "91f56caf-bb89-4615-a4cc-0453d985cd63",
   "metadata": {},
   "outputs": [],
   "source": [
    "## Настройка гиперпараметров\n",
    "# regParam - коэфф регуляции\n",
    "# maxIter - максимальное кол-во итераций при обучении\n",
    "# threshold порог классификации\n",
    "paramGrid = (ParamGridBuilder()\n",
    "             .addGrid(lr.regParam, [0.3, 0.2])\n",
    "             .addGrid(lr.maxIter, [15, 10])\n",
    "             .addGrid(lr.threshold,[0.45, 0.35])\n",
    "             .build())\n",
    "\n",
    "cv = CrossValidator(estimator=pipeline, \n",
    "                    evaluator=BinaryClassificationEvaluator(), \n",
    "                    estimatorParamMaps=paramGrid, \n",
    "                    numFolds=2)\n",
    "\n",
    "model = cv.fit(train)"
   ]
  },
  {
   "cell_type": "code",
   "execution_count": 24,
   "id": "a839dd29-774a-4f80-847b-9d14ed45dfbb",
   "metadata": {},
   "outputs": [
    {
     "name": "stdout",
     "output_type": "stream",
     "text": [
      "+--------------------+----------+---------+\n",
      "|            features|prediction|trueLabel|\n",
      "+--------------------+----------+---------+\n",
      "|(40,[8,18,34,35,3...|       0.0|        0|\n",
      "|(40,[8,18,33,34,3...|       0.0|        0|\n",
      "|(40,[8,18,33,34,3...|       0.0|        1|\n",
      "|(40,[8,18,33,34,3...|       0.0|        0|\n",
      "|(40,[8,18,33,34,3...|       0.0|        0|\n",
      "|(40,[8,18,33,34,3...|       0.0|        0|\n",
      "|(40,[8,18,33,34,3...|       0.0|        0|\n",
      "|(40,[8,18,33,34,3...|       0.0|        1|\n",
      "|(40,[8,18,33,34,3...|       0.0|        1|\n",
      "|(40,[8,18,33,34,3...|       0.0|        0|\n",
      "|(40,[8,18,33,34,3...|       0.0|        0|\n",
      "|(40,[8,18,33,34,3...|       0.0|        0|\n",
      "|(40,[8,18,33,34,3...|       0.0|        1|\n",
      "|(40,[8,18,33,34,3...|       0.0|        1|\n",
      "|(40,[8,18,33,34,3...|       1.0|        1|\n",
      "|(40,[8,18,33,34,3...|       0.0|        0|\n",
      "|(40,[8,18,33,34,3...|       0.0|        0|\n",
      "|(40,[8,18,33,34,3...|       1.0|        0|\n",
      "|(40,[8,18,33,34,3...|       0.0|        0|\n",
      "|(40,[8,18,33,34,3...|       0.0|        1|\n",
      "+--------------------+----------+---------+\n",
      "only showing top 20 rows\n",
      "\n"
     ]
    }
   ],
   "source": [
    "newPrediction = model.transform(test)\n",
    "newPredicted = prediction.select(\"features\", \"prediction\", \"trueLabel\")\n",
    "newPredicted.show()"
   ]
  },
  {
   "cell_type": "code",
   "execution_count": 25,
   "id": "87320a7f-32b8-492e-bc9d-c5f44e329c32",
   "metadata": {},
   "outputs": [
    {
     "name": "stdout",
     "output_type": "stream",
     "text": [
      "+---------+------------------+\n",
      "|   metric|             value|\n",
      "+---------+------------------+\n",
      "|       TP|          133972.0|\n",
      "|       FP|           40965.0|\n",
      "|       TN|           92972.0|\n",
      "|       FN|           11931.0|\n",
      "|Precision|0.7658299845087089|\n",
      "|   Recall|0.9182264929439422|\n",
      "|       F1|0.8351327764617877|\n",
      "+---------+------------------+\n",
      "\n"
     ]
    }
   ],
   "source": [
    "# Recalculate confusion matrix\n",
    "tp2 = float(newPrediction.filter(\"prediction == 1.0 AND truelabel == 1\").count())\n",
    "fp2 = float(newPrediction.filter(\"prediction == 1.0 AND truelabel == 0\").count())\n",
    "tn2 = float(newPrediction.filter(\"prediction == 0.0 AND truelabel == 0\").count())\n",
    "fn2 = float(newPrediction.filter(\"prediction == 0.0 AND truelabel == 1\").count())\n",
    "pr2 = tp2 / (tp2 + fp2)\n",
    "re2 = tp2 / (tp2 + fn2)\n",
    "metrics2 = spark.createDataFrame([\n",
    " (\"TP\", tp2),\n",
    " (\"FP\", fp2),\n",
    " (\"TN\", tn2),\n",
    " (\"FN\", fn2),\n",
    " (\"Precision\", pr2),\n",
    " (\"Recall\", re2),\n",
    " (\"F1\", 2*pr2*re2/(re2+pr2))],[\"metric\", \"value\"])\n",
    "metrics2.show()"
   ]
  },
  {
   "cell_type": "code",
   "execution_count": 26,
   "id": "73d96370-5aab-4b61-a315-a796137471e1",
   "metadata": {},
   "outputs": [
    {
     "name": "stdout",
     "output_type": "stream",
     "text": [
      "AUR2 =  0.9176269596901928\n"
     ]
    }
   ],
   "source": [
    "# Recalculate the Area Under ROC\n",
    "evaluator2 = BinaryClassificationEvaluator(labelCol=\"trueLabel\", rawPredictionCol=\"prediction\", metricName=\"areaUnderROC\")\n",
    "aur2 = evaluator.evaluate(prediction)\n",
    "print(\"AUR2 = \", aur2)"
   ]
  },
  {
   "cell_type": "code",
   "execution_count": null,
   "id": "976d2b0f-0282-405c-b7fe-a0e115c0f867",
   "metadata": {},
   "outputs": [],
   "source": []
  }
 ],
 "metadata": {
  "kernelspec": {
   "display_name": "Python 3 (ipykernel)",
   "language": "python",
   "name": "python3"
  },
  "language_info": {
   "codemirror_mode": {
    "name": "ipython",
    "version": 3
   },
   "file_extension": ".py",
   "mimetype": "text/x-python",
   "name": "python",
   "nbconvert_exporter": "python",
   "pygments_lexer": "ipython3",
   "version": "3.11.6"
  }
 },
 "nbformat": 4,
 "nbformat_minor": 5
}
